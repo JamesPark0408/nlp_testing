{
 "cells": [
  {
   "cell_type": "code",
   "execution_count": 3,
   "id": "45d85490",
   "metadata": {
    "ExecuteTime": {
     "end_time": "2023-05-29T14:54:29.409535Z",
     "start_time": "2023-05-29T14:54:28.472331Z"
    }
   },
   "outputs": [
    {
     "data": {
      "text/plain": [
       "{'text': 'The smelt of fliwers ,bring back memories.',\n",
       " 'result': 'The smell of flowers, bring back memories.',\n",
       " 'corrections': [{'start': 20,\n",
       "   'text': ' ,',\n",
       "   'correct': ', ',\n",
       "   'definition': 'Accept space'},\n",
       "  {'start': 13,\n",
       "   'text': 'fliwers',\n",
       "   'correct': 'flowers',\n",
       "   'definition': 'a plant cultivated for its blooms or blossoms'},\n",
       "  {'start': 4, 'text': 'smelt', 'correct': 'smell', 'definition': None}]}"
      ]
     },
     "execution_count": 3,
     "metadata": {},
     "output_type": "execute_result"
    }
   ],
   "source": [
    "from gingerit.gingerit import GingerIt\n",
    "\n",
    "text = 'The smelt of fliwers ,bring back memories.'\n",
    "\n",
    "parser = GingerIt()\n",
    "parser.parse(text)"
   ]
  },
  {
   "cell_type": "code",
   "execution_count": null,
   "id": "69f7ef0b",
   "metadata": {},
   "outputs": [],
   "source": []
  }
 ],
 "metadata": {
  "kernelspec": {
   "display_name": "Python 3",
   "language": "python",
   "name": "python3"
  },
  "language_info": {
   "codemirror_mode": {
    "name": "ipython",
    "version": 3
   },
   "file_extension": ".py",
   "mimetype": "text/x-python",
   "name": "python",
   "nbconvert_exporter": "python",
   "pygments_lexer": "ipython3",
   "version": "3.8.8"
  },
  "toc": {
   "base_numbering": 1,
   "nav_menu": {},
   "number_sections": true,
   "sideBar": true,
   "skip_h1_title": false,
   "title_cell": "Table of Contents",
   "title_sidebar": "Contents",
   "toc_cell": false,
   "toc_position": {},
   "toc_section_display": true,
   "toc_window_display": false
  }
 },
 "nbformat": 4,
 "nbformat_minor": 5
}
